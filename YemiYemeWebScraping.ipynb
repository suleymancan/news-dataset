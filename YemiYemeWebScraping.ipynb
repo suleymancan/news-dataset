{
 "cells": [
  {
   "cell_type": "code",
   "execution_count": 6,
   "metadata": {},
   "outputs": [],
   "source": [
    "# import libraries\n",
    "import requests\n",
    "from requests import get\n",
    "from bs4 import BeautifulSoup\n",
    "import csv\n",
    "import pandas as pd"
   ]
  },
  {
   "cell_type": "code",
   "execution_count": 7,
   "metadata": {},
   "outputs": [],
   "source": [
    "session = requests.Session()"
   ]
  },
  {
   "cell_type": "code",
   "execution_count": 8,
   "metadata": {},
   "outputs": [
    {
     "data": {
      "text/plain": [
       "'python-requests/2.18.4'"
      ]
     },
     "execution_count": 8,
     "metadata": {},
     "output_type": "execute_result"
    }
   ],
   "source": [
    "session.headers['User-Agent']\n"
   ]
  },
  {
   "cell_type": "code",
   "execution_count": 9,
   "metadata": {},
   "outputs": [],
   "source": [
    "my_headers={\"User-Agent\":\"Mozilla/5.0 (X11; Linux x86_64) AppleWebKit/537.36 (KHTML, like Gecko) Chrome/73.0.3683.75 Safari/537.36\",\n",
    "              \"Accept\":\"text/html,application/xhtml+xml,application/xml;q=0.9,image/webp,image/apng,*/*;q=0.8,application/signed-exchange;v=b3\"}"
   ]
  },
  {
   "cell_type": "code",
   "execution_count": 5,
   "metadata": {},
   "outputs": [],
   "source": [
    "news = []\n",
    "for i in range(1,154):\n",
    "    url = 'https://nayn.co/news/page'+ str(i)\n",
    "    response = session.get(url, headers=my_headers)\n",
    "    html_soup = BeautifulSoup(response.text, 'html.parser')\n",
    "    news_containers = html_soup.find_all('h2')\n",
    "    for lines in news_containers:\n",
    "        news_title = lines.text\n",
    "        news.append(news_title)"
   ]
  },
  {
   "cell_type": "code",
   "execution_count": 13,
   "metadata": {},
   "outputs": [
    {
     "data": {
      "text/plain": [
       "1986"
      ]
     },
     "execution_count": 13,
     "metadata": {},
     "output_type": "execute_result"
    }
   ],
   "source": [
    "naynco_write = open(\"/home/suleymancan/haber/naynco\", \"w\")\n",
    "for new in news:\n",
    "    naynco_write.write(new+ '\\n')\n",
    "naynco_write.close()\n",
    "len(news)"
   ]
  },
  {
   "cell_type": "code",
   "execution_count": 48,
   "metadata": {},
   "outputs": [],
   "source": [
    "news_evrensel = []\n",
    "for j in range(1,4):\n",
    "    for i in range(1,10):\n",
    "        url = \"https://www.evrensel.net/arsiv/20190\"+str(j)+\"0\"+ str(i) +'/tarih'\n",
    "        response = session.get(url, headers=my_headers)\n",
    "        html_soup = BeautifulSoup(response.text, 'html.parser')\n",
    "        news_containers = html_soup.find_all('p')\n",
    "        for lines in news_containers:\n",
    "            news_title = lines.text\n",
    "            news_evrensel.append(news_title)\n",
    "\n",
    "    for i in range(10,32):\n",
    "        url = \"https://www.evrensel.net/arsiv/20190\"+str(j)+str(i) +'/tarih'\n",
    "        response = session.get(url, headers=my_headers)\n",
    "        html_soup = BeautifulSoup(response.text, 'html.parser')\n",
    "        news_containers = html_soup.find_all('p')\n",
    "        for lines in news_containers:\n",
    "            news_title = lines.text\n",
    "            news_evrensel.append(news_title)"
   ]
  },
  {
   "cell_type": "code",
   "execution_count": 50,
   "metadata": {},
   "outputs": [],
   "source": [
    "evrensel_write = open(\"/home/suleymancan/haber/evrensel\", \"w\")\n",
    "for new in news_evrensel:\n",
    "    evrensel_write.write(new+ '\\n')\n",
    "evrensel_write.close()"
   ]
  },
  {
   "cell_type": "code",
   "execution_count": 51,
   "metadata": {},
   "outputs": [],
   "source": [
    "news_dokuzsekiz = []\n",
    "for j in range(1,13):\n",
    "    for i in range(1,10):\n",
    "        url = \"http://www.dokuz8haber.net/2018/0\"+str(j)+\"/0\"+ str(i)\n",
    "        response = session.get(url, headers=my_headers)\n",
    "        html_soup = BeautifulSoup(response.text, 'html.parser')\n",
    "        news_containers = html_soup.find_all('h2')\n",
    "        for lines in news_containers:\n",
    "            news_title = lines.text\n",
    "            news_dokuzsekiz.append(news_title)\n",
    "    for i in range(10,31):\n",
    "        url = \"http://www.dokuz8haber.net/2018/0\"+str(j)+\"/\"+ str(i)\n",
    "        response = session.get(url, headers=my_headers)\n",
    "        html_soup = BeautifulSoup(response.text, 'html.parser')\n",
    "        news_containers = html_soup.find_all('h2')\n",
    "        for lines in news_containers:\n",
    "            news_title = lines.text\n",
    "            news_dokuzsekiz.append(news_title)\n",
    "for j in range(1,4):\n",
    "    for i in range(1,10):\n",
    "        url = \"http://www.dokuz8haber.net/2019/0\"+str(j)+\"/0\"+ str(i)\n",
    "        response = session.get(url, headers=my_headers)\n",
    "        html_soup = BeautifulSoup(response.text, 'html.parser')\n",
    "        news_containers = html_soup.find_all('h2')\n",
    "        for lines in news_containers:\n",
    "            news_title = lines.text\n",
    "            news_dokuzsekiz.append(news_title)\n",
    "    for i in range(10,31):\n",
    "        url = \"http://www.dokuz8haber.net/2019/0\"+str(j)+\"/\"+ str(i)\n",
    "        response = session.get(url, headers=my_headers)\n",
    "        html_soup = BeautifulSoup(response.text, 'html.parser')\n",
    "        news_containers = html_soup.find_all('h2')\n",
    "        for lines in news_containers:\n",
    "            news_title = lines.text\n",
    "            news_dokuzsekiz.append(news_title)"
   ]
  },
  {
   "cell_type": "code",
   "execution_count": 55,
   "metadata": {},
   "outputs": [],
   "source": [
    "dokuzsekiz_write = open(\"/home/suleymancan/haber/dokuzsekiz\", \"w\")\n",
    "for new in news_dokuzsekiz:\n",
    "    dokuzsekiz_write.write(new+ '\\n')\n",
    "dokuzsekiz_write.close()"
   ]
  }
 ],
 "metadata": {
  "kernelspec": {
   "display_name": "Python 3",
   "language": "python",
   "name": "python3"
  },
  "language_info": {
   "codemirror_mode": {
    "name": "ipython",
    "version": 3
   },
   "file_extension": ".py",
   "mimetype": "text/x-python",
   "name": "python",
   "nbconvert_exporter": "python",
   "pygments_lexer": "ipython3",
   "version": "3.6.8"
  }
 },
 "nbformat": 4,
 "nbformat_minor": 2
}
